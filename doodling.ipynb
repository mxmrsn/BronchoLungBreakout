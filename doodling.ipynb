{
  "nbformat": 4,
  "nbformat_minor": 0,
  "metadata": {
    "colab": {
      "name": "doodling.ipynb",
      "provenance": [],
      "collapsed_sections": [],
      "authorship_tag": "ABX9TyPbTiNiKXS/6ZgL4eiHxXPV",
      "include_colab_link": true
    },
    "kernelspec": {
      "name": "python3",
      "display_name": "Python 3"
    }
  },
  "cells": [
    {
      "cell_type": "markdown",
      "metadata": {
        "id": "view-in-github",
        "colab_type": "text"
      },
      "source": [
        "<a href=\"https://colab.research.google.com/github/mxmrsn/BronchoLungBreakout/blob/master/doodling.ipynb\" target=\"_parent\"><img src=\"https://colab.research.google.com/assets/colab-badge.svg\" alt=\"Open In Colab\"/></a>"
      ]
    },
    {
      "cell_type": "markdown",
      "metadata": {
        "id": "yavK90VjhfOA"
      },
      "source": [
        "Numpy Example"
      ]
    },
    {
      "cell_type": "code",
      "metadata": {
        "id": "9V7QF42hhdWA"
      },
      "source": [
        "import numpy as np\n",
        "\n",
        "\n",
        "A = np.array([1, 2, 3, 4, 5])\n",
        "B = np.array([1.,2.,3.,4.,5.])\n",
        "\n",
        "print(\"A: {}\".format(A))\n",
        "print(\"B: {}\".format(D))\n",
        "\n",
        "print(\"Integer Array:\")\n",
        "for ii in A:\n",
        "  print(ii)\n",
        "\n",
        "print(\"Float Array:\")\n",
        "for ii in B:\n",
        "  print(ii)\n"
      ],
      "execution_count": null,
      "outputs": []
    },
    {
      "cell_type": "markdown",
      "metadata": {
        "id": "XnkqILazmQvZ"
      },
      "source": [
        "Matplotlib Example"
      ]
    },
    {
      "cell_type": "code",
      "metadata": {
        "id": "vQkDp_oymZML"
      },
      "source": [
        "import matplotlib as mpl\n",
        "import matplotlib.pyplot as plt\n",
        "\n",
        "plt.style.use('classic')\n",
        "\n",
        "x = np.linspace(0, 10, 100)\n",
        " \n",
        "plt.plot(x, np.sin(x))\n",
        "plt.plot(x, np.cos(x))\n",
        " \n",
        "plt.show()"
      ],
      "execution_count": null,
      "outputs": []
    }
  ]
}